{
  "nbformat": 4,
  "nbformat_minor": 0,
  "metadata": {
    "colab": {
      "provenance": [],
      "include_colab_link": true
    },
    "kernelspec": {
      "name": "python3",
      "display_name": "Python 3"
    },
    "language_info": {
      "name": "python"
    }
  },
  "cells": [
    {
      "cell_type": "markdown",
      "metadata": {
        "id": "view-in-github",
        "colab_type": "text"
      },
      "source": [
        "<a href=\"https://colab.research.google.com/github/niniaugusto/Atividade-FI/blob/main/C%C3%B3pia_de_C%C3%B3pia_de_Python_Exercicio_1.ipynb\" target=\"_parent\"><img src=\"https://colab.research.google.com/assets/colab-badge.svg\" alt=\"Open In Colab\"/></a>"
      ]
    },
    {
      "cell_type": "markdown",
      "source": [
        "# **1 - Usando os recursos que vimos até agora, elabore um programa simples que faça os cálculos matemáticos básicos de 2 numeros. Exemplo: 2+2 ou 2/2 etc.**\n",
        "\n",
        "\n",
        "a) o programa deve pedir ao usuário para digitar o nome completo e validar se ele digitou um nome completo para continua, senão abortar programa;\n",
        "\n",
        "b) o programa deve exibir um menu com as opções matemáticas para o usuário escolher, em seguida pedir para digitar os 2 números (um de cada vez);\n",
        "\n",
        "c) O programa deve exibir a resposta do cálculo com casas decimais e perguntar se o usuário deseja saír ou fazer um novo cálculo;\n",
        "\n",
        "d) Caso o usuário saia em algum momento do programa, devemos agradecer chamando ele apenas pelo primeiro nome, o histórico dos cálculos que ele fez e a data hora que ele encerrou;\n",
        "\n",
        "Dicas:\n",
        "\n",
        "- print(\"\") exibe texto;\n",
        "- print(\"\" + \"\") exibe concatenando textos;\n",
        "- print(\"\", \"\") exibe concatenando textos;\n",
        "- variavelLista = list() cria uma variavel sendo uma lista editavel;\n",
        "- try:  int(variavelX) força uma variável a se tornar um inteiro;\n",
        "- except ValueError: executa algo que queira se o try falhou com erro\n",
        "- float usado para números decimais;\n",
        "- from datetime import datetime importa biblioteca para usar data e hora;\n",
        "- input(\"Digite um valor\") cria um campo para o usuário digitar algo e armazena;\n",
        "- def cria uma função para retornar algum valor ou executar algo;\n",
        "- nomeDaFuncao() chama uma função;\n",
        "- if, elif, else: usado para condições e verificação de valores;\n",
        "- return encerra um if ou uma função;\n",
        "- [print(conteudo) for conteudo in variavelLista] exibe percorrendo uma lista;\n",
        "- .clear limpa uma lista\n",
        "- .insert(x,y) insere um valor em uma posição de uma lista\n",
        "- global nomeVariavel cria uma variavel para ser usada em todo o programa;\n",
        "- variavel.lower() mostra em minúscula\n",
        "- variavel.upper() mostra em maiúscula\n",
        "- variavel.split() recorta string ou lista em partes de acordo com parâmetro;\n",
        "- nomeLista[3] retorna o conteúdo da posição 4 da lista (indice 3)\n",
        "- datetime.today() retorna a data e hora em formato americano\n",
        "\n"
      ],
      "metadata": {
        "id": "4jzanlkETIfw"
      }
    },
    {
      "cell_type": "code",
      "source": [
        "import datetime\n",
        "\n",
        "def obter_nome_completo():b\n",
        "    while True:\n",
        "        nome_completo = input(\"Digite seu nome completo: \")\n",
        "        if \" \" in nome_completo:\n",
        "            return nome_completo\n",
        "        else:\n",
        "            print(\"Por favor, digite seu nome completo.\")\n",
        "\n",
        "def exibir_menu():\n",
        "    print(\"\\nMenu de Operações:\")\n",
        "    print(\"1. Adição\")\n",
        "    print(\"2. Subtração\")\n",
        "    print(\"3. Multiplicação\")\n",
        "    print(\"4. Divisão\")\n",
        "    print(\"5. Sair\")\n",
        "    escolha = input(\"Escolha a operação (1/2/3/4/5): \")\n",
        "    return escolha\n",
        "\n",
        "def calcular(operacao, num1, num2):\n",
        "    if operacao == '1':\n",
        "        resultado = num1 + num2\n",
        "    elif operacao == '2':\n",
        "        resultado = num1 - num2\n",
        "    elif operacao == '3':\n",
        "        resultado = num1 * num2\n",
        "    elif operacao == '4':\n",
        "        resultado = num1 / num2\n",
        "    else:\n",
        "        resultado = None\n",
        "    return resultado\n",
        "\n",
        "def exibir_historico(historico):\n",
        "    print(\"\\nHistórico de Cálculos:\")\n",
        "    for i, calculo in enumerate(historico, start=1):\n",
        "        print(f\"{i}. {calculo}\")\n",
        "    print(\"\\n\")\n",
        "\n",
        "def main():\n",
        "    nome_completo = obter_nome_completo()\n",
        "    primeiro_nome = nome_completo.split()[0]\n",
        "    historico = []\n",
        "\n",
        "    while True:\n",
        "        escolha = exibir_menu()\n",
        "\n",
        "        if escolha == '5':\n",
        "            data_hora_saida = datetime.datetime.today().strftime('%Y-%m-%d %H:%M:%S')\n",
        "            print(f\"\\nObrigado, {primeiro_nome}, por usar o programa.\")\n",
        "            exibir_historico(historico)\n",
        "            print(f\"Encerrado em: {data_hora_saida}\")\n",
        "            break\n",
        "\n",
        "        try:\n",
        "            num1 = float(input(\"Digite o primeiro número: \"))\n",
        "            num2 = float(input(\"Digite o segundo número: \"))\n",
        "        except ValueError:\n",
        "            print(\"Entrada inválida. Certifique-se de inserir números válidos.\")\n",
        "            continue\n",
        "\n",
        "        resultado = calcular(escolha, num1, num2)\n",
        "\n",
        "        if resultado is not None:\n",
        "            historico.append(f\"{num1} {['+', '-', '*', '/'][int(escolha) - 1]} {num2} = {resultado:.2f}\")\n",
        "            print(f\"Resultado: {resultado:.2f}\")\n",
        "\n",
        "        continuar = input(\"Deseja fazer outro cálculo? (S/N): \").lower()\n",
        "        if continuar != 's':\n",
        "            data_hora_saida = datetime.datetime.today().strftime('%Y-%m-%d %H:%M:%S')\n",
        "            print(f\"\\nObrigado, {primeiro_nome}, por usar o programa.\")\n",
        "            exibir_historico(historico)\n",
        "            print(f\"Encerrado em: {data_hora_saida}\")\n",
        "            break\n",
        "\n",
        "if __name__ == \"__main__\":\n",
        "    main()\n"
      ],
      "metadata": {
        "colab": {
          "base_uri": "https://localhost:8080/"
        },
        "id": "lxZ5kQA3BP8_",
        "outputId": "5e4aab84-0c6c-499d-a866-638e2166cba5"
      },
      "execution_count": 2,
      "outputs": [
        {
          "output_type": "stream",
          "name": "stdout",
          "text": [
            "Digite seu nome completo: King Nixólas\n",
            "\n",
            "Menu de Operações:\n",
            "1. Adição\n",
            "2. Subtração\n",
            "3. Multiplicação\n",
            "4. Divisão\n",
            "5. Sair\n",
            "Escolha a operação (1/2/3/4/5): 3\n",
            "Digite o primeiro número: 7\n",
            "Digite o segundo número: 9\n",
            "Resultado: 63.00\n",
            "Deseja fazer outro cálculo? (S/N): n\n",
            "\n",
            "Obrigado, King, por usar o programa.\n",
            "\n",
            "Histórico de Cálculos:\n",
            "1. 7.0 * 9.0 = 63.00\n",
            "\n",
            "\n",
            "Encerrado em: 2023-09-21 14:00:40\n"
          ]
        }
      ]
    }
  ]
}